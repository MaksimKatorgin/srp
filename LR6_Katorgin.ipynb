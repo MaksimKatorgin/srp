{
 "cells": [
  {
   "cell_type": "markdown",
   "metadata": {},
   "source": [
    "# Каторгин Максим Константинович ИВТ-2021\n",
    "Вариант №4 Лабораторная работа №6"
   ]
  },
  {
   "cell_type": "code",
   "execution_count": 1,
   "metadata": {},
   "outputs": [
    {
     "name": "stdout",
     "output_type": "stream",
     "text": [
      "1. Создает множество a_set, содержащее не менее 7 элементов любых разрешенных типов, с помощью 3 – генератора.\n",
      "[0, 1, 4, 9, 16, 25, 36]\n",
      "*-*-*-*-*-*-*-*-*-*-*-*-*-*-*-*-*-*-*\n",
      "2. Создает итерабельный объект it_ob, содержащий не менее трех элементов, имеющихся в объекте a_set, и проверить, \n",
      "все ли элементы it_ob хэшируемы. Если нет – заменить нехэшируемые элементы хэшируемыми.\n",
      "[0, 1, 4, 9, 16, 25, 36]\n",
      "*-*-*-*-*-*-*-*-*-*-*-*-*-*-*-*-*-*-*\n",
      "3. Преобразует объект it_ob в множество b_set и выполняет над множествами a_set и b_set операцию 1 – union().\n",
      "frozenset({0, 1, 4, 36, 9, 16, 25})\n",
      "*-*-*-*-*-*-*-*-*-*-*-*-*-*-*-*-*-*-*\n",
      "4. Создает словарь a_dict с помощью 4 – конструктора с аргументом итерабельного типа\n",
      "{'A': 0, 'B': 1, 'C': 2, 'D': 3, 'E': 4, 'F': 5}\n",
      "*-*-*-*-*-*-*-*-*-*-*-*-*-*-*-*-*-*-*\n",
      "5. Выполняет следующие методы словаря a_dict: 3 - items(), 6 - popitem(), 8 - update([dict2])\n",
      "3 -  dict_items([('A', 0), ('B', 1), ('C', 2), ('D', 3), ('E', 4), ('F', 5)]) \n",
      "6 -  ('F', 5) \n",
      "8 -  None\n"
     ]
    }
   ],
   "source": [
    "print('''1. Создает множество a_set, содержащее не менее 7 элементов любых разрешенных типов, с помощью 3 – генератора.''')\n",
    "a_set=[x**2 for x in range(7)]\n",
    "print(a_set)\n",
    "print('*-*-*-*-*-*-*-*-*-*-*-*-*-*-*-*-*-*-*')\n",
    "print('''2. Создает итерабельный объект it_ob, содержащий не менее трех элементов, имеющихся в объекте a_set, и проверить, \n",
    "все ли элементы it_ob хэшируемы. Если нет – заменить нехэшируемые элементы хэшируемыми.''')\n",
    "it_ob = iter(a_set)\n",
    "list_hash = []\n",
    "for it_ob in a_set:\n",
    "    hash_it_ob=hash(it_ob)\n",
    "    list_hash.append(hash_it_ob)\n",
    "it_ob = list_hash\n",
    "print(it_ob)# Переприсвоили it_ob в хешируемый список \n",
    "print('*-*-*-*-*-*-*-*-*-*-*-*-*-*-*-*-*-*-*')\n",
    "print('''3. Преобразует объект it_ob в множество b_set и выполняет над множествами a_set и b_set операцию 1 – union().''')\n",
    "b_set=frozenset(it_ob)\n",
    "w1=frozenset(a_set).union(b_set)\n",
    "print(w1)\n",
    "print('*-*-*-*-*-*-*-*-*-*-*-*-*-*-*-*-*-*-*')\n",
    "print('''4. Создает словарь a_dict с помощью 4 – конструктора с аргументом итерабельного типа''') \n",
    "a_dict = {x: y for x, y in zip('ABCDEF', range(6))}\n",
    "print(a_dict)\n",
    "print('*-*-*-*-*-*-*-*-*-*-*-*-*-*-*-*-*-*-*')\n",
    "print('''5. Выполняет следующие методы словаря a_dict: 3 - items(), 6 - popitem(), 8 - update([dict2])''')\n",
    "dict1 = a_dict.items()\n",
    "dict2 = a_dict.popitem()\n",
    "dict3 = a_dict.update([dict2])\n",
    "print('3 - ', dict1, '\\n6 - ', dict2, '\\n8 - ', dict3)"
   ]
  },
  {
   "cell_type": "code",
   "execution_count": null,
   "metadata": {},
   "outputs": [],
   "source": [
    "\n"
   ]
  },
  {
   "cell_type": "code",
   "execution_count": null,
   "metadata": {},
   "outputs": [],
   "source": []
  },
  {
   "cell_type": "code",
   "execution_count": null,
   "metadata": {},
   "outputs": [],
   "source": []
  },
  {
   "cell_type": "code",
   "execution_count": null,
   "metadata": {},
   "outputs": [],
   "source": []
  }
 ],
 "metadata": {
  "kernelspec": {
   "display_name": "Python 3",
   "language": "python",
   "name": "python3"
  },
  "language_info": {
   "codemirror_mode": {
    "name": "ipython",
    "version": 3
   },
   "file_extension": ".py",
   "mimetype": "text/x-python",
   "name": "python",
   "nbconvert_exporter": "python",
   "pygments_lexer": "ipython3",
   "version": "3.8.8"
  }
 },
 "nbformat": 4,
 "nbformat_minor": 2
}
